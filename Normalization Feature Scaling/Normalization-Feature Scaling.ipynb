{
 "cells": [
  {
   "cell_type": "markdown",
   "id": "663299fc",
   "metadata": {},
   "source": [
    "# Feature Transformation"
   ]
  },
  {
   "cell_type": "markdown",
   "id": "0d243637",
   "metadata": {},
   "source": [
    "## Feature Scaling"
   ]
  },
  {
   "cell_type": "markdown",
   "id": "1c0167d0",
   "metadata": {},
   "source": [
    "Definition: A technique to standardize independent features of a dataset in a fixed range of values.\n",
    "Note: Use Feature Scaling just before model building."
   ]
  },
  {
   "cell_type": "markdown",
   "id": "6746e2c2",
   "metadata": {},
   "source": [
    "## Normalization"
   ]
  },
  {
   "cell_type": "markdown",
   "id": "8053dd93",
   "metadata": {},
   "source": [
    "Definition: A data pre processing technique often used for Machine Learning. <br> The goal of Normalization is to change the volumes of numeric columns in the data set to use common scale,without distorting differences in the range of values or losing information.  "
   ]
  },
  {
   "cell_type": "markdown",
   "id": "9d5f38dd",
   "metadata": {},
   "source": [
    "### Types:\n",
    "1)Min-Max scaling (Standard Normalization) <br> 2) Mean Normalization <br> 3)Max absolute scaling <br> 4) Robust scaling\n"
   ]
  },
  {
   "cell_type": "markdown",
   "id": "ff2eb29d",
   "metadata": {},
   "source": [
    "### MinMax scaler- (Value- Min)/(Max-Min) in range [0,1] Class: MInMaxscaler"
   ]
  },
  {
   "cell_type": "markdown",
   "id": "f133795b",
   "metadata": {},
   "source": [
    "### Mean Normalization: (Value- x_Mean)/(x_Max-x_Min) range in [-1,1]\n",
    "Here we do mean centering as we use to do in Standardization(so, this technique is used very rerely, instead we use Standardization). There is no separate class for this technique in Scikit-learn library, we have to code it manually."
   ]
  },
  {
   "cell_type": "markdown",
   "id": "204fccf2",
   "metadata": {},
   "source": [
    "### Max absolute scaling: x_new=(x_old)/|x_max|, class-->MaxAbsScaler\n",
    "Mostly used when we have sparse data(means, data having many zeros)"
   ]
  },
  {
   "cell_type": "markdown",
   "id": "46713107",
   "metadata": {},
   "source": [
    "### Robust Scaling : x_new=(x_old-x_median)/IQR, class-->RobustScaler\n",
    "This scaling is Robust to outliers(generally it performs well with outliers)"
   ]
  },
  {
   "cell_type": "markdown",
   "id": "7e9d048f",
   "metadata": {},
   "source": [
    "# Topics covered:\n",
    "1.How to Normalize<br>\n",
    "2.Effect of Normalization on Outliers<br>\n",
    "3.Normalization Vs Standardization "
   ]
  },
  {
   "cell_type": "code",
   "execution_count": 1,
   "id": "78efaaa1",
   "metadata": {},
   "outputs": [],
   "source": [
    "#Importing dependencies/libraries\n",
    "import pandas as pd\n",
    "import numpy as np\n",
    "import matplotlib.pyplot as plt\n",
    "import seaborn as sns"
   ]
  },
  {
   "cell_type": "code",
   "execution_count": 2,
   "id": "975b8ede",
   "metadata": {},
   "outputs": [],
   "source": [
    "#Using the first three columns in this section:\n",
    "df1 = pd.read_csv(\"wine_data.csv\", header= None, usecols=[0,1,2])"
   ]
  },
  {
   "cell_type": "code",
   "execution_count": 3,
   "id": "e883e1dd",
   "metadata": {},
   "outputs": [],
   "source": [
    "df1.columns=[\"Class label\",\"Alcohol\",\"Malic acid\"]"
   ]
  },
  {
   "cell_type": "markdown",
   "id": "f73468c7",
   "metadata": {},
   "source": [
    "# Min-Max Scaling "
   ]
  },
  {
   "cell_type": "code",
   "execution_count": 4,
   "id": "94cbfc4e",
   "metadata": {},
   "outputs": [],
   "source": [
    "# test-train split\n",
    "from sklearn.model_selection import train_test_split\n",
    "X_train, X_test, y_train, y_test = train_test_split(df1.drop(\"Class label\", axis=1), df1[\"Class label\"], test_size=0.3, random_state=0)"
   ]
  },
  {
   "cell_type": "code",
   "execution_count": 5,
   "id": "4d212664",
   "metadata": {},
   "outputs": [
    {
     "data": {
      "text/plain": [
       "((124, 2), (54, 2), (124,), (54,))"
      ]
     },
     "execution_count": 5,
     "metadata": {},
     "output_type": "execute_result"
    }
   ],
   "source": [
    "#shapes:\n",
    "X_train.shape, X_test.shape, y_train.shape, y_test.shape"
   ]
  },
  {
   "cell_type": "code",
   "execution_count": 6,
   "id": "f477c553",
   "metadata": {},
   "outputs": [],
   "source": [
    "#Normalization:\n",
    "from sklearn.preprocessing import MinMaxScaler\n",
    "scaler= MinMaxScaler()\n",
    "#Fit the scaler to the train set so that it would learn from the parameter\n",
    "scaler.fit(X_train)\n",
    "#transform train and test sets\n",
    "X_train_scaled= scaler.transform(X_train )\n",
    "X_test_scaled= scaler.transform(X_test)"
   ]
  },
  {
   "cell_type": "code",
   "execution_count": 7,
   "id": "ca159a71",
   "metadata": {},
   "outputs": [
    {
     "data": {
      "text/plain": [
       "array([[0.72043011, 0.20378151],\n",
       "       [0.31989247, 0.08403361],\n",
       "       [0.60215054, 0.71218487],\n",
       "       [0.57258065, 0.56302521],\n",
       "       [0.76075269, 0.1302521 ],\n",
       "       [0.48924731, 0.5       ],\n",
       "       [0.75537634, 0.67857143],\n",
       "       [0.61021505, 0.17436975],\n",
       "       [0.54301075, 0.62394958],\n",
       "       [0.39784946, 0.07352941],\n",
       "       [0.33870968, 0.1092437 ],\n",
       "       [0.46774194, 0.53361345],\n",
       "       [0.5188172 , 0.53781513],\n",
       "       [0.70967742, 0.07563025],\n",
       "       [0.57258065, 0.30882353],\n",
       "       [0.36021505, 0.0105042 ],\n",
       "       [0.38709677, 0.13235294],\n",
       "       [0.20967742, 0.25840336],\n",
       "       [0.59408602, 0.64915966],\n",
       "       [0.82526882, 0.26680672],\n",
       "       [0.15591398, 0.09663866],\n",
       "       [0.52688172, 0.16386555],\n",
       "       [0.46774194, 0.31512605],\n",
       "       [0.65860215, 0.16386555],\n",
       "       [0.1155914 , 0.5987395 ],\n",
       "       [0.27956989, 0.26680672],\n",
       "       [0.21236559, 0.12184874],\n",
       "       [0.65053763, 0.59033613],\n",
       "       [0.31451613, 0.44957983],\n",
       "       [0.54301075, 0.17647059],\n",
       "       [0.57526882, 0.90336134],\n",
       "       [0.28225806, 0.09243697],\n",
       "       [0.30645161, 0.11764706],\n",
       "       [0.37365591, 0.74369748],\n",
       "       [0.22580645, 0.71848739],\n",
       "       [0.3172043 , 0.06302521],\n",
       "       [0.78225806, 0.17647059],\n",
       "       [0.82526882, 0.23739496],\n",
       "       [0.44086022, 0.01890756],\n",
       "       [1.        , 0.17647059],\n",
       "       [0.32795699, 0.80462185],\n",
       "       [0.48924731, 0.14915966],\n",
       "       [0.72580645, 0.7289916 ],\n",
       "       [0.81451613, 0.15546218],\n",
       "       [0.69892473, 0.19327731],\n",
       "       [0.34946237, 0.0210084 ],\n",
       "       [0.75      , 0.18067227],\n",
       "       [0.28225806, 0.25      ],\n",
       "       [0.53763441, 0.00210084],\n",
       "       [0.89784946, 0.22268908],\n",
       "       [0.57526882, 0.35714286],\n",
       "       [0.45430108, 0.18067227],\n",
       "       [0.90322581, 0.20588235],\n",
       "       [0.62096774, 0.0105042 ],\n",
       "       [0.16935484, 0.20798319],\n",
       "       [0.21774194, 0.        ],\n",
       "       [0.49193548, 0.09663866],\n",
       "       [0.7311828 , 0.17647059],\n",
       "       [0.40322581, 0.97058824],\n",
       "       [0.55913978, 0.21218487],\n",
       "       [0.90053763, 0.20588235],\n",
       "       [0.86021505, 0.17226891],\n",
       "       [0.26075269, 0.1302521 ],\n",
       "       [0.59139785, 0.50630252],\n",
       "       [0.90053763, 0.56722689],\n",
       "       [0.83064516, 0.12394958],\n",
       "       [0.26075269, 0.53361345],\n",
       "       [0.35215054, 0.32773109],\n",
       "       [0.65860215, 0.19327731],\n",
       "       [0.60752688, 0.22689076],\n",
       "       [0.63978495, 0.6197479 ],\n",
       "       [0.72043011, 1.        ],\n",
       "       [0.36021505, 0.06722689],\n",
       "       [0.58333333, 0.18697479],\n",
       "       [0.11290323, 0.31722689],\n",
       "       [0.69623656, 0.85294118],\n",
       "       [0.76612903, 0.21008403],\n",
       "       [0.37365591, 0.3487395 ],\n",
       "       [0.47849462, 0.29831933],\n",
       "       [0.41666667, 0.08403361],\n",
       "       [0.75268817, 0.14285714],\n",
       "       [0.5483871 , 0.12815126],\n",
       "       [0.44892473, 0.55882353],\n",
       "       [0.73655914, 0.21218487],\n",
       "       [0.48655914, 0.43487395],\n",
       "       [0.36021505, 0.15546218],\n",
       "       [0.66666667, 0.19117647],\n",
       "       [0.76344086, 0.21218487],\n",
       "       [0.28225806, 0.10504202],\n",
       "       [0.68548387, 0.16176471],\n",
       "       [0.55107527, 0.63235294],\n",
       "       [0.20430108, 0.2605042 ],\n",
       "       [0.38172043, 0.44957983],\n",
       "       [0.71236559, 0.19747899],\n",
       "       [0.66935484, 0.4789916 ],\n",
       "       [0.66397849, 0.46848739],\n",
       "       [0.49462366, 0.78151261],\n",
       "       [0.80376344, 0.16596639],\n",
       "       [0.33870968, 0.4789916 ],\n",
       "       [0.28225806, 0.05042017],\n",
       "       [0.44892473, 0.62605042],\n",
       "       [0.        , 0.1302521 ],\n",
       "       [0.6155914 , 0.49369748],\n",
       "       [0.83333333, 0.67436975],\n",
       "       [0.66129032, 0.16176471],\n",
       "       [0.21774194, 0.42016807],\n",
       "       [0.54301075, 0.24369748],\n",
       "       [0.45430108, 0.19327731],\n",
       "       [0.4811828 , 0.5210084 ],\n",
       "       [0.63709677, 0.77941176],\n",
       "       [0.85752688, 0.6512605 ],\n",
       "       [0.72311828, 0.11344538],\n",
       "       [0.51075269, 0.40336134],\n",
       "       [0.16397849, 0.24579832],\n",
       "       [0.33870968, 0.1512605 ],\n",
       "       [0.16666667, 0.16386555],\n",
       "       [0.60483871, 0.15756303],\n",
       "       [0.51075269, 0.61134454],\n",
       "       [0.76075269, 0.09663866],\n",
       "       [0.21236559, 0.17436975],\n",
       "       [0.36021505, 0.05882353],\n",
       "       [0.37365591, 0.1512605 ],\n",
       "       [0.77150538, 0.16596639],\n",
       "       [0.84139785, 0.34033613]])"
      ]
     },
     "execution_count": 7,
     "metadata": {},
     "output_type": "execute_result"
    }
   ],
   "source": [
    "#by-default standardization converts dataframe into array\n",
    "X_train_scaled"
   ]
  },
  {
   "cell_type": "code",
   "execution_count": 8,
   "id": "8c9b424d",
   "metadata": {},
   "outputs": [],
   "source": [
    "#so we need to convert back array into dataframe\n",
    "X_train_scaled = pd.DataFrame(X_train_scaled, columns=X_train.columns)\n",
    "X_test_scaled = pd.DataFrame(X_test_scaled, columns=X_test.columns)"
   ]
  },
  {
   "cell_type": "code",
   "execution_count": 9,
   "id": "af3ce548",
   "metadata": {},
   "outputs": [
    {
     "data": {
      "text/html": [
       "<div>\n",
       "<style scoped>\n",
       "    .dataframe tbody tr th:only-of-type {\n",
       "        vertical-align: middle;\n",
       "    }\n",
       "\n",
       "    .dataframe tbody tr th {\n",
       "        vertical-align: top;\n",
       "    }\n",
       "\n",
       "    .dataframe thead th {\n",
       "        text-align: right;\n",
       "    }\n",
       "</style>\n",
       "<table border=\"1\" class=\"dataframe\">\n",
       "  <thead>\n",
       "    <tr style=\"text-align: right;\">\n",
       "      <th></th>\n",
       "      <th>Alcohol</th>\n",
       "      <th>Malic acid</th>\n",
       "    </tr>\n",
       "  </thead>\n",
       "  <tbody>\n",
       "    <tr>\n",
       "      <th>0</th>\n",
       "      <td>0.720430</td>\n",
       "      <td>0.203782</td>\n",
       "    </tr>\n",
       "    <tr>\n",
       "      <th>1</th>\n",
       "      <td>0.319892</td>\n",
       "      <td>0.084034</td>\n",
       "    </tr>\n",
       "    <tr>\n",
       "      <th>2</th>\n",
       "      <td>0.602151</td>\n",
       "      <td>0.712185</td>\n",
       "    </tr>\n",
       "    <tr>\n",
       "      <th>3</th>\n",
       "      <td>0.572581</td>\n",
       "      <td>0.563025</td>\n",
       "    </tr>\n",
       "    <tr>\n",
       "      <th>4</th>\n",
       "      <td>0.760753</td>\n",
       "      <td>0.130252</td>\n",
       "    </tr>\n",
       "  </tbody>\n",
       "</table>\n",
       "</div>"
      ],
      "text/plain": [
       "    Alcohol  Malic acid\n",
       "0  0.720430    0.203782\n",
       "1  0.319892    0.084034\n",
       "2  0.602151    0.712185\n",
       "3  0.572581    0.563025\n",
       "4  0.760753    0.130252"
      ]
     },
     "execution_count": 9,
     "metadata": {},
     "output_type": "execute_result"
    }
   ],
   "source": [
    "#first 5 rows of X_train_scaled\n",
    "X_train_scaled.head()"
   ]
  },
  {
   "cell_type": "code",
   "execution_count": 10,
   "id": "e3212029",
   "metadata": {},
   "outputs": [
    {
     "data": {
      "text/html": [
       "<div>\n",
       "<style scoped>\n",
       "    .dataframe tbody tr th:only-of-type {\n",
       "        vertical-align: middle;\n",
       "    }\n",
       "\n",
       "    .dataframe tbody tr th {\n",
       "        vertical-align: top;\n",
       "    }\n",
       "\n",
       "    .dataframe thead th {\n",
       "        text-align: right;\n",
       "    }\n",
       "</style>\n",
       "<table border=\"1\" class=\"dataframe\">\n",
       "  <thead>\n",
       "    <tr style=\"text-align: right;\">\n",
       "      <th></th>\n",
       "      <th>Alcohol</th>\n",
       "      <th>Malic acid</th>\n",
       "    </tr>\n",
       "  </thead>\n",
       "  <tbody>\n",
       "    <tr>\n",
       "      <th>count</th>\n",
       "      <td>124.000000</td>\n",
       "      <td>124.000000</td>\n",
       "    </tr>\n",
       "    <tr>\n",
       "      <th>mean</th>\n",
       "      <td>12.983065</td>\n",
       "      <td>2.383710</td>\n",
       "    </tr>\n",
       "    <tr>\n",
       "      <th>std</th>\n",
       "      <td>0.801340</td>\n",
       "      <td>1.136696</td>\n",
       "    </tr>\n",
       "    <tr>\n",
       "      <th>min</th>\n",
       "      <td>11.030000</td>\n",
       "      <td>0.890000</td>\n",
       "    </tr>\n",
       "    <tr>\n",
       "      <th>25%</th>\n",
       "      <td>12.362500</td>\n",
       "      <td>1.607500</td>\n",
       "    </tr>\n",
       "    <tr>\n",
       "      <th>50%</th>\n",
       "      <td>13.040000</td>\n",
       "      <td>1.885000</td>\n",
       "    </tr>\n",
       "    <tr>\n",
       "      <th>75%</th>\n",
       "      <td>13.640000</td>\n",
       "      <td>3.247500</td>\n",
       "    </tr>\n",
       "    <tr>\n",
       "      <th>max</th>\n",
       "      <td>14.750000</td>\n",
       "      <td>5.650000</td>\n",
       "    </tr>\n",
       "  </tbody>\n",
       "</table>\n",
       "</div>"
      ],
      "text/plain": [
       "          Alcohol  Malic acid\n",
       "count  124.000000  124.000000\n",
       "mean    12.983065    2.383710\n",
       "std      0.801340    1.136696\n",
       "min     11.030000    0.890000\n",
       "25%     12.362500    1.607500\n",
       "50%     13.040000    1.885000\n",
       "75%     13.640000    3.247500\n",
       "max     14.750000    5.650000"
      ]
     },
     "execution_count": 10,
     "metadata": {},
     "output_type": "execute_result"
    }
   ],
   "source": [
    "#scatistical info before scaling\n",
    "X_train.describe()"
   ]
  },
  {
   "cell_type": "code",
   "execution_count": 11,
   "id": "7e6d2353",
   "metadata": {},
   "outputs": [
    {
     "data": {
      "text/html": [
       "<div>\n",
       "<style scoped>\n",
       "    .dataframe tbody tr th:only-of-type {\n",
       "        vertical-align: middle;\n",
       "    }\n",
       "\n",
       "    .dataframe tbody tr th {\n",
       "        vertical-align: top;\n",
       "    }\n",
       "\n",
       "    .dataframe thead th {\n",
       "        text-align: right;\n",
       "    }\n",
       "</style>\n",
       "<table border=\"1\" class=\"dataframe\">\n",
       "  <thead>\n",
       "    <tr style=\"text-align: right;\">\n",
       "      <th></th>\n",
       "      <th>Alcohol</th>\n",
       "      <th>Malic acid</th>\n",
       "    </tr>\n",
       "  </thead>\n",
       "  <tbody>\n",
       "    <tr>\n",
       "      <th>count</th>\n",
       "      <td>124.0</td>\n",
       "      <td>124.0</td>\n",
       "    </tr>\n",
       "    <tr>\n",
       "      <th>mean</th>\n",
       "      <td>0.5</td>\n",
       "      <td>0.3</td>\n",
       "    </tr>\n",
       "    <tr>\n",
       "      <th>std</th>\n",
       "      <td>0.2</td>\n",
       "      <td>0.2</td>\n",
       "    </tr>\n",
       "    <tr>\n",
       "      <th>min</th>\n",
       "      <td>0.0</td>\n",
       "      <td>0.0</td>\n",
       "    </tr>\n",
       "    <tr>\n",
       "      <th>25%</th>\n",
       "      <td>0.4</td>\n",
       "      <td>0.2</td>\n",
       "    </tr>\n",
       "    <tr>\n",
       "      <th>50%</th>\n",
       "      <td>0.5</td>\n",
       "      <td>0.2</td>\n",
       "    </tr>\n",
       "    <tr>\n",
       "      <th>75%</th>\n",
       "      <td>0.7</td>\n",
       "      <td>0.5</td>\n",
       "    </tr>\n",
       "    <tr>\n",
       "      <th>max</th>\n",
       "      <td>1.0</td>\n",
       "      <td>1.0</td>\n",
       "    </tr>\n",
       "  </tbody>\n",
       "</table>\n",
       "</div>"
      ],
      "text/plain": [
       "       Alcohol  Malic acid\n",
       "count    124.0       124.0\n",
       "mean       0.5         0.3\n",
       "std        0.2         0.2\n",
       "min        0.0         0.0\n",
       "25%        0.4         0.2\n",
       "50%        0.5         0.2\n",
       "75%        0.7         0.5\n",
       "max        1.0         1.0"
      ]
     },
     "execution_count": 11,
     "metadata": {},
     "output_type": "execute_result"
    }
   ],
   "source": [
    "#scatistical info after scaling\n",
    "np.round(X_train_scaled.describe(), 1)"
   ]
  },
  {
   "cell_type": "markdown",
   "id": "197a3561",
   "metadata": {},
   "source": [
    "## Effect of Normalization on Outliers:"
   ]
  },
  {
   "cell_type": "markdown",
   "id": "6c1060cf",
   "metadata": {},
   "source": [
    "Since, we sqeeze range as a result impact of outlier also squeezes, we need to handle outliers separately."
   ]
  },
  {
   "cell_type": "markdown",
   "id": "a1b4f1f3",
   "metadata": {},
   "source": [
    "## Normalization Vs Standardization\n",
    "1.Depends on type of data <br>2.Most of the problems are solved by using Standardization<br>3.Normalization(MinMaxScaler) is mostly used when we already know min and max values, example : CNN(image processing)<br>4.When we have outliers, its best to  use Robust scaling<br>5.When we have sparse data try using MaxAbs scaling<br>6.When we have no idea simply use Standardization"
   ]
  },
  {
   "cell_type": "markdown",
   "id": "663f227e",
   "metadata": {},
   "source": []
  },
  {
   "cell_type": "code",
   "execution_count": 12,
   "id": "eac12531",
   "metadata": {},
   "outputs": [
    {
     "ename": "SyntaxError",
     "evalue": "illegal target for annotation (3117167578.py, line 1)",
     "output_type": "error",
     "traceback": [
      "\u001b[1;36m  Cell \u001b[1;32mIn [12], line 1\u001b[1;36m\u001b[0m\n\u001b[1;33m    Markdown and LaTeX:  𝛼2\u001b[0m\n\u001b[1;37m    ^\u001b[0m\n\u001b[1;31mSyntaxError\u001b[0m\u001b[1;31m:\u001b[0m illegal target for annotation\n"
     ]
    }
   ],
   "source": []
  }
 ],
 "metadata": {
  "kernelspec": {
   "display_name": "Python 3 (ipykernel)",
   "language": "python",
   "name": "python3"
  },
  "language_info": {
   "codemirror_mode": {
    "name": "ipython",
    "version": 3
   },
   "file_extension": ".py",
   "mimetype": "text/x-python",
   "name": "python",
   "nbconvert_exporter": "python",
   "pygments_lexer": "ipython3",
   "version": "3.10.4"
  }
 },
 "nbformat": 4,
 "nbformat_minor": 5
}
